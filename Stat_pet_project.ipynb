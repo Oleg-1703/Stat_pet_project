{
  "cells": [
    {
      "cell_type": "code",
      "execution_count": null,
      "metadata": {
        "id": "1-gZ_dYWiM7z"
      },
      "outputs": [],
      "source": [
        "# Импортируем необходимые инструменты\n",
        "import pandas as pd\n",
        "import numpy as np\n",
        "\n",
        "from scipy import stats as st\n",
        "from scipy.stats import chi2_contingency\n",
        "\n",
        "import seaborn as sns\n",
        "from IPython.display import Image, display\n",
        "import matplotlib.pyplot as plt"
      ]
    },
    {
      "cell_type": "markdown",
      "metadata": {
        "id": "DPwT9szqiM71"
      },
      "source": [
        "Задание 1\n",
        "\n",
        "Менеджер сайта, предоставляющего независимым продавцам площадку для\n",
        "продаж, решил провести АБ-тест, выбрав в качестве метрики время обработки\n",
        "заказов продавцами. Для контрольной группы продавцов оставили предыдущий\n",
        "интерфейс работы с заказами, а для тестовой группы внедрили интерактивный\n",
        "дэшборд заказов.\n",
        "Полученные результаты времени обработки заказов в часах для тестовой и\n",
        "контрольной групп представлены в csv-файлах time_order_processing_test.csv и\n",
        "time_order_processing_control.csv.\n",
        "Проверьте гипотезу менеджера о том, что использование интерактивного\n",
        "дэшборда уменьшило время обработки заказов."
      ]
    },
    {
      "cell_type": "code",
      "execution_count": null,
      "metadata": {
        "id": "n_rVHCaViM73"
      },
      "outputs": [],
      "source": [
        "# Загружаем CSV-даныне\n",
        "control = pd.read_csv(r'C:\\Downloads\\time_order_processing_control.csv')\n",
        "test = pd.read_csv(r'C:\\Downloads\\time_order_processing_test.csv')"
      ]
    },
    {
      "cell_type": "code",
      "execution_count": null,
      "metadata": {
        "id": "cG7K7586iM73",
        "outputId": "4cb260e8-acb2-4812-d107-57b530d723de"
      },
      "outputs": [
        {
          "data": {
            "text/html": [
              "<div>\n",
              "<style scoped>\n",
              "    .dataframe tbody tr th:only-of-type {\n",
              "        vertical-align: middle;\n",
              "    }\n",
              "\n",
              "    .dataframe tbody tr th {\n",
              "        vertical-align: top;\n",
              "    }\n",
              "\n",
              "    .dataframe thead th {\n",
              "        text-align: right;\n",
              "    }\n",
              "</style>\n",
              "<table border=\"1\" class=\"dataframe\">\n",
              "  <thead>\n",
              "    <tr style=\"text-align: right;\">\n",
              "      <th></th>\n",
              "      <th>Unnamed: 0</th>\n",
              "      <th>time</th>\n",
              "    </tr>\n",
              "  </thead>\n",
              "  <tbody>\n",
              "    <tr>\n",
              "      <th>0</th>\n",
              "      <td>0</td>\n",
              "      <td>16.56</td>\n",
              "    </tr>\n",
              "    <tr>\n",
              "      <th>1</th>\n",
              "      <td>1</td>\n",
              "      <td>23.76</td>\n",
              "    </tr>\n",
              "    <tr>\n",
              "      <th>2</th>\n",
              "      <td>2</td>\n",
              "      <td>12.12</td>\n",
              "    </tr>\n",
              "    <tr>\n",
              "      <th>3</th>\n",
              "      <td>3</td>\n",
              "      <td>13.80</td>\n",
              "    </tr>\n",
              "    <tr>\n",
              "      <th>4</th>\n",
              "      <td>4</td>\n",
              "      <td>15.08</td>\n",
              "    </tr>\n",
              "  </tbody>\n",
              "</table>\n",
              "</div>"
            ],
            "text/plain": [
              "   Unnamed: 0   time\n",
              "0           0  16.56\n",
              "1           1  23.76\n",
              "2           2  12.12\n",
              "3           3  13.80\n",
              "4           4  15.08"
            ]
          },
          "execution_count": 54,
          "metadata": {},
          "output_type": "execute_result"
        }
      ],
      "source": [
        "# Проводим первичный обзор данных\n",
        "# 1. Просмотр датафрейма, вывод нескольких первых строк.\n",
        "#control.head(5)\n",
        "test.head(5)"
      ]
    },
    {
      "cell_type": "code",
      "execution_count": null,
      "metadata": {
        "id": "BQtl-uejiM74",
        "outputId": "73a3af30-ee92-4f8b-f574-aef1a2df193a"
      },
      "outputs": [
        {
          "data": {
            "text/html": [
              "<div>\n",
              "<style scoped>\n",
              "    .dataframe tbody tr th:only-of-type {\n",
              "        vertical-align: middle;\n",
              "    }\n",
              "\n",
              "    .dataframe tbody tr th {\n",
              "        vertical-align: top;\n",
              "    }\n",
              "\n",
              "    .dataframe thead th {\n",
              "        text-align: right;\n",
              "    }\n",
              "</style>\n",
              "<table border=\"1\" class=\"dataframe\">\n",
              "  <thead>\n",
              "    <tr style=\"text-align: right;\">\n",
              "      <th></th>\n",
              "      <th>Unnamed: 0</th>\n",
              "      <th>time</th>\n",
              "    </tr>\n",
              "  </thead>\n",
              "  <tbody>\n",
              "    <tr>\n",
              "      <th>count</th>\n",
              "      <td>1393.000000</td>\n",
              "      <td>1393.000000</td>\n",
              "    </tr>\n",
              "    <tr>\n",
              "      <th>mean</th>\n",
              "      <td>696.000000</td>\n",
              "      <td>18.009160</td>\n",
              "    </tr>\n",
              "    <tr>\n",
              "      <th>std</th>\n",
              "      <td>402.268774</td>\n",
              "      <td>5.857845</td>\n",
              "    </tr>\n",
              "    <tr>\n",
              "      <th>min</th>\n",
              "      <td>0.000000</td>\n",
              "      <td>8.000000</td>\n",
              "    </tr>\n",
              "    <tr>\n",
              "      <th>25%</th>\n",
              "      <td>348.000000</td>\n",
              "      <td>13.840000</td>\n",
              "    </tr>\n",
              "    <tr>\n",
              "      <th>50%</th>\n",
              "      <td>696.000000</td>\n",
              "      <td>17.480000</td>\n",
              "    </tr>\n",
              "    <tr>\n",
              "      <th>75%</th>\n",
              "      <td>1044.000000</td>\n",
              "      <td>21.520000</td>\n",
              "    </tr>\n",
              "    <tr>\n",
              "      <th>max</th>\n",
              "      <td>1392.000000</td>\n",
              "      <td>44.520000</td>\n",
              "    </tr>\n",
              "  </tbody>\n",
              "</table>\n",
              "</div>"
            ],
            "text/plain": [
              "        Unnamed: 0         time\n",
              "count  1393.000000  1393.000000\n",
              "mean    696.000000    18.009160\n",
              "std     402.268774     5.857845\n",
              "min       0.000000     8.000000\n",
              "25%     348.000000    13.840000\n",
              "50%     696.000000    17.480000\n",
              "75%    1044.000000    21.520000\n",
              "max    1392.000000    44.520000"
            ]
          },
          "execution_count": 55,
          "metadata": {},
          "output_type": "execute_result"
        }
      ],
      "source": [
        "# 2. Вывод некоторых статистических сведений\n",
        "#control.describe()\n",
        "test.describe()"
      ]
    },
    {
      "cell_type": "code",
      "execution_count": null,
      "metadata": {
        "id": "JlP9kI0DiM74",
        "outputId": "d42fe6ab-7a27-4891-966b-2ec51be91759"
      },
      "outputs": [
        {
          "data": {
            "image/png": "[encoded data removed]",
            "text/plain": [
              "<Figure size 500x500 with 1 Axes>"
            ]
          },
          "metadata": {},
          "output_type": "display_data"
        },
        {
          "data": {
            "image/png": "[encoded data removed]",
            "text/plain": [
              "<Figure size 500x500 with 1 Axes>"
            ]
          },
          "metadata": {},
          "output_type": "display_data"
        }
      ],
      "source": [
        "# 3. Визуално оцениваем плотность распределения данных (гистограмма + KDE/ЯОП)\n",
        "# Kernel Density Estimation, KDE или ядерная оценка плотности - один из непараметрических способов оценки плотности\n",
        "# случайной величины, особенностью которого является сглаживание данных.\n",
        "g_c = sns.displot(control, x=\"time\", kde=True)\n",
        "g_t = sns.displot(test, x=\"time\", kde=True)"
      ]
    },
    {
      "cell_type": "code",
      "execution_count": null,
      "metadata": {
        "id": "m1jCjKB0iM75",
        "outputId": "d0955206-05f4-4eac-ca23-071ec27608c1"
      },
      "outputs": [
        {
          "name": "stdout",
          "output_type": "stream",
          "text": [
            "Стандартное отклонение контрольной выборки: 8.9799\n",
            "Стандартное отклонение тестовой выборки: 5.8578\n"
          ]
        }
      ],
      "source": [
        "# Сравним стандартные отклонений выборок, для определения необходимости применением теста Уэлча.\n",
        "control_std = control['time'].std( )\n",
        "print(f'Стандартное отклонение контрольной выборки: {control_std:.4f}')\n",
        "test_std = test['time'].std( )\n",
        "print(f'Стандартное отклонение тестовой выборки: {test_std:.4f}')"
      ]
    },
    {
      "cell_type": "code",
      "execution_count": null,
      "metadata": {
        "id": "-k-p-nPsiM75"
      },
      "outputs": [],
      "source": [
        "# Разница между стандартными отклонениями двух выборок, очевидно и ожидаемо, не существенна (equal_var=True).\n",
        "# Применим двухвыборочный Т-тест для независимых выборок.\n",
        "# index = 1 for control, index = 2 for test\n",
        "# Нулевая гипотеза H_0: mu_1 = mu_2, т.е.использование альтренативного дэшборда не оказало никакого влияния на время обработки заказов продавцом.\n",
        "# Альтернативная гипотеза H_1: mu_1 > mu_2, т.е. использование изменений в интерфейсе площадки агрегатора уменьшило время обработки заказов.\n",
        "# Уровень значимости альфа определим равным α = 0.05"
      ]
    },
    {
      "cell_type": "code",
      "execution_count": null,
      "metadata": {
        "id": "xQcaIsSMiM75",
        "outputId": "44e59b40-b94c-4a13-e20a-229e7370816f"
      },
      "outputs": [
        {
          "name": "stdout",
          "output_type": "stream",
          "text": [
            "Результаты t-теста:\n",
            "t-статистика: 40.01056\n",
            "p-значение: 2.9949647128013707e-277\n",
            "\n",
            "Отвергаем нулевую гипотезу. Использование интерактивного дэшборда значимо уменьшило время обработки заказов.\n"
          ]
        }
      ],
      "source": [
        "# T-тест для сравнения среднего значения (независимые выборки)\n",
        "t_statistic, p_value = st.ttest_ind(control['time'], test['time'], equal_var=True, alternative = \"greater\")\n",
        "\n",
        "print(\"Результаты t-теста:\")\n",
        "print(f\"t-статистика: {t_statistic:.5f}\")\n",
        "print(f\"p-значение: {p_value}\")\n",
        "\n",
        "# Интерпретация результатов\n",
        "alpha = 0.05\n",
        "if p_value < alpha:\n",
        "    print(\"\\nОтвергаем нулевую гипотезу. Использование интерактивного дэшборда значимо уменьшило время обработки заказов.\")\n",
        "else:\n",
        "    print(\"\\nНе отвергаем нулевую гипотезу. Разница в среднем времени обработки заказов имеет случайный характер и статистически не значима. Положительное влиянение изменений в интерфейсе не доказано\")"
      ]
    },
    {
      "cell_type": "markdown",
      "metadata": {
        "id": "O6LRqfcKiM76"
      },
      "source": [
        "Задание 4 (дополнительное)\n",
        "\n",
        "Постройте 90%-е доверительные интервалы по выборкам из задания 1 для\n",
        "среднего времени обработки заказа продавцами, использующими и не\n",
        "использующими интерактивный дашборд."
      ]
    },
    {
      "cell_type": "code",
      "execution_count": null,
      "metadata": {
        "id": "zRkHelbyiM76"
      },
      "outputs": [],
      "source": [
        "# Зададим доверительный уровень, в соответствии с условиями задачи\n",
        "confidence_level = 0.9\n",
        "alpha = 0.1"
      ]
    },
    {
      "cell_type": "code",
      "execution_count": null,
      "metadata": {
        "id": "XsJj6_iOiM76"
      },
      "outputs": [],
      "source": [
        "# Расчёт доверительного интервала производится по формуле:\n",
        "# среднее значение +/- критическое значение * стандартное отклонение / квадратный корень из размера выборки"
      ]
    },
    {
      "cell_type": "code",
      "execution_count": null,
      "metadata": {
        "id": "WVOlqDkXiM77",
        "outputId": "3e790080-7a57-4c0a-a637-ac86b399deae"
      },
      "outputs": [
        {
          "data": {
            "image/png": "[encoded data removed]",
            "text/plain": [
              "<Figure size 520.894x119.468 with 1 Axes>"
            ]
          },
          "metadata": {},
          "output_type": "display_data"
        }
      ],
      "source": [
        "# Отрисовка формулы доверительного интервала\n",
        "formula = '$\\\\overline{x} \\\\pm Z_{\\\\alpha/2}\\\\times \\\\frac{\\\\sigma}{\\\\sqrt{n}}$'\n",
        "\n",
        "### Создание области отрисовки\n",
        "fig = plt.figure()\n",
        "ax = fig.add_axes([0,0,1,1])\n",
        "ax.set_axis_off()\n",
        "\n",
        "### Отрисовка формулы\n",
        "t = ax.text(0.5, 0.5, formula,\n",
        "        horizontalalignment='center',\n",
        "        verticalalignment='center',\n",
        "        fontsize=50, color='black')\n",
        "\n",
        "### Определение размеров формулы\n",
        "ax.figure.canvas.draw()\n",
        "bbox = t.get_window_extent()\n",
        "\n",
        "# Установка размеров области отрисовки\n",
        "fig.set_size_inches(bbox.width/80,bbox.height/80) # dpi=80\n",
        "\n",
        "plt.savefig('formula.svg')\n"
      ]
    },
    {
      "cell_type": "code",
      "execution_count": null,
      "metadata": {
        "id": "IY27nz0KiM77"
      },
      "outputs": [],
      "source": [
        "# Средние и стандартные отклонения для двух выборок\n",
        "mean_control_group = control['time'].mean()\n",
        "std_control_group = control['time'].std()\n",
        "\n",
        "mean_test_group = test['time'].mean()\n",
        "std_test_group = test['time'].std()\n",
        "\n",
        "# Размер выборок\n",
        "n_control_group = len(control)\n",
        "n_test_group = len(test)\n",
        "\n",
        "# Определение критического значения Z_а/2 для 90% уровня доверия\n",
        "z_control_group = 1.65\n",
        "z_test_group = 1.65"
      ]
    },
    {
      "cell_type": "code",
      "execution_count": null,
      "metadata": {
        "id": "fXDO1-7MiM77",
        "outputId": "64cb49ce-17f3-4797-aa02-7507704fdf62"
      },
      "outputs": [
        {
          "data": {
            "text/html": [
              "<img src=\"https://www.codecamp.ru/content/images/2020/09/za2.png\" width=\"800\"/>"
            ],
            "text/plain": [
              "<IPython.core.display.Image object>"
            ]
          },
          "metadata": {},
          "output_type": "display_data"
        }
      ],
      "source": [
        "# Z-таблица критических значений\n",
        "display(Image(url='https://www.codecamp.ru/content/images/2020/09/za2.png', width = 800))\n"
      ]
    },
    {
      "cell_type": "code",
      "execution_count": null,
      "metadata": {
        "id": "jgKR1x0IiM77",
        "outputId": "ec0a9980-0e1e-4fa0-bcb3-79b0cc10b0d6"
      },
      "outputs": [
        {
          "data": {
            "text/html": [
              "<img src=\"https://miro.medium.com/v2/resize:fit:1400/format:webp/1*JqwbognQCkmCsPN7UgmEDQ.jpeg\" width=\"800\"/>"
            ],
            "text/plain": [
              "<IPython.core.display.Image object>"
            ]
          },
          "metadata": {},
          "output_type": "display_data"
        }
      ],
      "source": [
        "# Полная формула доверительного интервала с указанием стандартных критических значений Z\n",
        "\n",
        "display(Image(url='https://miro.medium.com/v2/resize:fit:1400/format:webp/1*JqwbognQCkmCsPN7UgmEDQ.jpeg', width = 800))"
      ]
    },
    {
      "cell_type": "code",
      "execution_count": null,
      "metadata": {
        "id": "cCgbEPiuiM77",
        "outputId": "a752a876-07fd-4b78-ec43-616c828fe275"
      },
      "outputs": [
        {
          "name": "stdout",
          "output_type": "stream",
          "text": [
            "Доверительный интервал для среднего времени обработки заказа без использования интерактивного дашборда:\n",
            "(29.106, 29.900)\n",
            "Доверительный интервал для среднего времени обработки заказа с использованием интерактивного дашборда:\n",
            "(17.750, 18.268)\n"
          ]
        }
      ],
      "source": [
        "# Расчёт доверительных интервалов выборок\n",
        "confidence_interval_low_control = mean_control_group - z_control_group * (std_control_group / np.sqrt(n_control_group))\n",
        "confidence_interval_high_control = mean_control_group + z_control_group * (std_control_group / np.sqrt(n_control_group))\n",
        "\n",
        "confidence_interval_low_test_group = mean_test_group - z_test_group * (std_test_group / np.sqrt(n_test_group))\n",
        "confidence_interva_high_test_group = mean_test_group + z_test_group * (std_test_group / np.sqrt(n_test_group))\n",
        "\n",
        "print(\"Доверительный интервал для среднего времени обработки заказа без использования интерактивного дашборда:\")\n",
        "print(f\"({confidence_interval_low_control:.3f}, {confidence_interval_high_control:.3f})\")\n",
        "print(\"Доверительный интервал для среднего времени обработки заказа с использованием интерактивного дашборда:\")\n",
        "print(f\"({confidence_interval_low_test_group:.3f}, {confidence_interva_high_test_group:.3f})\")"
      ]
    },
    {
      "cell_type": "code",
      "execution_count": null,
      "metadata": {
        "id": "zKJgOUu9iM77",
        "outputId": "fb724166-415d-4db9-f305-ca365d746243"
      },
      "outputs": [
        {
          "name": "stdout",
          "output_type": "stream",
          "text": [
            "Для контрольной выборки 90% доверительный интервал составляет: (29.1071 , 29.8986)\n",
            "Для тестовой выборки 90% доверительный интервал составляет: (17.7510 , 18.2673)\n",
            "То есть, в 90 процентах случаев наш доверительный интервал будет включать истинное среднее значение времени обработки заказа.\n"
          ]
        }
      ],
      "source": [
        "# Инструменты статистики scipy позволяют произвести подобный расчет в одну формулу, которая принимаем в себя три значения:\n",
        "# - доверительный уровень (90% в нашем случае)\n",
        "# - среднее значение выборки (Mean)\n",
        "# - стандартную ошибку среднего (Standard Error of Mean - SEM)\n",
        "# Размер выборок контрольной и тетсовой групп достаточно велик, поэтому, согласно ЦПТ, построим доверительный интервал с использованем нормального распределения.\n",
        "\n",
        "interval_con = st.norm.interval(confidence=0.9, loc=np.mean(control['time']), scale=st.sem(control['time']))\n",
        "interval_test = st.norm.interval(confidence=0.9, loc=np.mean(test['time']), scale=st.sem(test['time']))\n",
        "print(f'Для контрольной выборки 90% доверительный интервал составляет: ({(interval_con[0]):.4f} , {(interval_con[1]):.4f})')\n",
        "print(f'Для тестовой выборки 90% доверительный интервал составляет: ({(interval_test[0]):.4f} , {(interval_test[1]):.4f})')\n",
        "print('То есть, в 90 процентах случаев наш доверительный интервал будет включать истинное среднее значение времени обработки заказа.')"
      ]
    },
    {
      "cell_type": "markdown",
      "metadata": {
        "id": "mpOVFHY3iM78"
      },
      "source": [
        "Задание 2\n",
        "\n",
        "Этот же маркетплейс предоставил с 1 мая часто заказывающим клиентам\n",
        "бесплатную доставку, действующую для всех заказов до конца календарного\n",
        "месяца, если в этом месяце клиент уже сделал пять заказов (то есть начиная с\n",
        "шестого заказа).\n",
        "В файле clients_orders.csv представлена информация о количестве заказов,\n",
        "которое тысяча случайно отобранных часто заказывающих клиентов сделали в\n",
        "апреле и мае.\n",
        "Проверьте гипотезу о том, что клиенты стали делать больше заказов после\n",
        "введения бесплатной доставки с шестого заказа."
      ]
    },
    {
      "cell_type": "code",
      "execution_count": null,
      "metadata": {
        "id": "rBlp_lyoiM78"
      },
      "outputs": [],
      "source": [
        "# Импорт данных\n",
        "orders = pd.read_csv(r'C:\\Downloads\\clients_orders.csv')"
      ]
    },
    {
      "cell_type": "code",
      "execution_count": null,
      "metadata": {
        "id": "tVKQgGWziM78",
        "outputId": "f72a4af1-9e82-4b34-c41f-c1c25a39ac45"
      },
      "outputs": [
        {
          "data": {
            "text/html": [
              "<div>\n",
              "<style scoped>\n",
              "    .dataframe tbody tr th:only-of-type {\n",
              "        vertical-align: middle;\n",
              "    }\n",
              "\n",
              "    .dataframe tbody tr th {\n",
              "        vertical-align: top;\n",
              "    }\n",
              "\n",
              "    .dataframe thead th {\n",
              "        text-align: right;\n",
              "    }\n",
              "</style>\n",
              "<table border=\"1\" class=\"dataframe\">\n",
              "  <thead>\n",
              "    <tr style=\"text-align: right;\">\n",
              "      <th></th>\n",
              "      <th>Unnamed: 0</th>\n",
              "      <th>orders_april</th>\n",
              "      <th>orders_may</th>\n",
              "    </tr>\n",
              "  </thead>\n",
              "  <tbody>\n",
              "    <tr>\n",
              "      <th>0</th>\n",
              "      <td>0</td>\n",
              "      <td>1</td>\n",
              "      <td>13</td>\n",
              "    </tr>\n",
              "    <tr>\n",
              "      <th>1</th>\n",
              "      <td>1</td>\n",
              "      <td>5</td>\n",
              "      <td>7</td>\n",
              "    </tr>\n",
              "    <tr>\n",
              "      <th>2</th>\n",
              "      <td>2</td>\n",
              "      <td>10</td>\n",
              "      <td>8</td>\n",
              "    </tr>\n",
              "    <tr>\n",
              "      <th>3</th>\n",
              "      <td>3</td>\n",
              "      <td>11</td>\n",
              "      <td>6</td>\n",
              "    </tr>\n",
              "    <tr>\n",
              "      <th>4</th>\n",
              "      <td>4</td>\n",
              "      <td>1</td>\n",
              "      <td>10</td>\n",
              "    </tr>\n",
              "    <tr>\n",
              "      <th>5</th>\n",
              "      <td>5</td>\n",
              "      <td>5</td>\n",
              "      <td>8</td>\n",
              "    </tr>\n",
              "    <tr>\n",
              "      <th>6</th>\n",
              "      <td>6</td>\n",
              "      <td>2</td>\n",
              "      <td>11</td>\n",
              "    </tr>\n",
              "    <tr>\n",
              "      <th>7</th>\n",
              "      <td>7</td>\n",
              "      <td>9</td>\n",
              "      <td>6</td>\n",
              "    </tr>\n",
              "    <tr>\n",
              "      <th>8</th>\n",
              "      <td>8</td>\n",
              "      <td>3</td>\n",
              "      <td>8</td>\n",
              "    </tr>\n",
              "    <tr>\n",
              "      <th>9</th>\n",
              "      <td>9</td>\n",
              "      <td>3</td>\n",
              "      <td>7</td>\n",
              "    </tr>\n",
              "  </tbody>\n",
              "</table>\n",
              "</div>"
            ],
            "text/plain": [
              "   Unnamed: 0  orders_april  orders_may\n",
              "0           0             1          13\n",
              "1           1             5           7\n",
              "2           2            10           8\n",
              "3           3            11           6\n",
              "4           4             1          10\n",
              "5           5             5           8\n",
              "6           6             2          11\n",
              "7           7             9           6\n",
              "8           8             3           8\n",
              "9           9             3           7"
            ]
          },
          "execution_count": 69,
          "metadata": {},
          "output_type": "execute_result"
        }
      ],
      "source": [
        "# Проводим первичный обзор данных\n",
        "# 1. Просмотр датафрейма, вывод нескольких первых строк.\n",
        "orders.head(10)"
      ]
    },
    {
      "cell_type": "code",
      "execution_count": null,
      "metadata": {
        "id": "6usgXY-MiM78",
        "outputId": "27a78ac5-e2b0-4bfa-e663-d2c61c22227a"
      },
      "outputs": [
        {
          "data": {
            "text/html": [
              "<div>\n",
              "<style scoped>\n",
              "    .dataframe tbody tr th:only-of-type {\n",
              "        vertical-align: middle;\n",
              "    }\n",
              "\n",
              "    .dataframe tbody tr th {\n",
              "        vertical-align: top;\n",
              "    }\n",
              "\n",
              "    .dataframe thead th {\n",
              "        text-align: right;\n",
              "    }\n",
              "</style>\n",
              "<table border=\"1\" class=\"dataframe\">\n",
              "  <thead>\n",
              "    <tr style=\"text-align: right;\">\n",
              "      <th></th>\n",
              "      <th>Unnamed: 0</th>\n",
              "      <th>orders_april</th>\n",
              "      <th>orders_may</th>\n",
              "    </tr>\n",
              "  </thead>\n",
              "  <tbody>\n",
              "    <tr>\n",
              "      <th>count</th>\n",
              "      <td>1000.000000</td>\n",
              "      <td>1000.000000</td>\n",
              "      <td>1000.000000</td>\n",
              "    </tr>\n",
              "    <tr>\n",
              "      <th>mean</th>\n",
              "      <td>499.500000</td>\n",
              "      <td>5.762000</td>\n",
              "      <td>7.982000</td>\n",
              "    </tr>\n",
              "    <tr>\n",
              "      <th>std</th>\n",
              "      <td>288.819436</td>\n",
              "      <td>3.006392</td>\n",
              "      <td>2.414437</td>\n",
              "    </tr>\n",
              "    <tr>\n",
              "      <th>min</th>\n",
              "      <td>0.000000</td>\n",
              "      <td>0.000000</td>\n",
              "      <td>2.000000</td>\n",
              "    </tr>\n",
              "    <tr>\n",
              "      <th>25%</th>\n",
              "      <td>249.750000</td>\n",
              "      <td>3.000000</td>\n",
              "      <td>6.000000</td>\n",
              "    </tr>\n",
              "    <tr>\n",
              "      <th>50%</th>\n",
              "      <td>499.500000</td>\n",
              "      <td>6.000000</td>\n",
              "      <td>8.000000</td>\n",
              "    </tr>\n",
              "    <tr>\n",
              "      <th>75%</th>\n",
              "      <td>749.250000</td>\n",
              "      <td>8.000000</td>\n",
              "      <td>10.000000</td>\n",
              "    </tr>\n",
              "    <tr>\n",
              "      <th>max</th>\n",
              "      <td>999.000000</td>\n",
              "      <td>14.000000</td>\n",
              "      <td>14.000000</td>\n",
              "    </tr>\n",
              "  </tbody>\n",
              "</table>\n",
              "</div>"
            ],
            "text/plain": [
              "        Unnamed: 0  orders_april   orders_may\n",
              "count  1000.000000   1000.000000  1000.000000\n",
              "mean    499.500000      5.762000     7.982000\n",
              "std     288.819436      3.006392     2.414437\n",
              "min       0.000000      0.000000     2.000000\n",
              "25%     249.750000      3.000000     6.000000\n",
              "50%     499.500000      6.000000     8.000000\n",
              "75%     749.250000      8.000000    10.000000\n",
              "max     999.000000     14.000000    14.000000"
            ]
          },
          "execution_count": 70,
          "metadata": {},
          "output_type": "execute_result"
        }
      ],
      "source": [
        "# 2. Вывод некоторых статистических сведений\n",
        "orders.describe()"
      ]
    },
    {
      "cell_type": "code",
      "execution_count": null,
      "metadata": {
        "id": "bgg4e89PiM78",
        "outputId": "138c9e4a-ccba-4bde-cced-799e539b9017"
      },
      "outputs": [
        {
          "data": {
            "text/plain": [
              "<seaborn.axisgrid.FacetGrid at 0x2c42589c890>"
            ]
          },
          "execution_count": 71,
          "metadata": {},
          "output_type": "execute_result"
        },
        {
          "data": {
            "image/png": "[encoded data removed]",
            "text/plain": [
              "<Figure size 632.25x500 with 1 Axes>"
            ]
          },
          "metadata": {},
          "output_type": "display_data"
        }
      ],
      "source": [
        "# 3. Визуално оцениваем плотность распределения данных (гистограмма + KDE/ЯОП)\n",
        "orders_test = orders[['orders_april','orders_may']]\n",
        "sns.displot(data=orders_test, kind=\"kde\", fill=True)"
      ]
    },
    {
      "cell_type": "code",
      "execution_count": null,
      "metadata": {
        "id": "St8gLeSFiM78"
      },
      "outputs": [],
      "source": [
        "# Применим двухвыборочный Т-тест для зависимых выборок.\n",
        "# index = 1 for april, index = 2 for may\n",
        "# Нулевая гипотеза H_0: mu_1 = mu_2, или mu_d = 0, т.е. введение бесплатной доставки с 6-ого заказа не повлияло на число заказов за текущий месяц.\n",
        "# Альтернативная гипотеза H_1: mu_1 < mu_2, т.е. введение нового бонуса увеличило число заказов за месяц.\n",
        "# уровень значимости альфа = 0.05"
      ]
    },
    {
      "cell_type": "code",
      "execution_count": null,
      "metadata": {
        "id": "Lz9L-K2giM79",
        "outputId": "55293332-ec99-4c05-ea15-30db36638c35"
      },
      "outputs": [
        {
          "name": "stdout",
          "output_type": "stream",
          "text": [
            "Результаты t-теста:\n",
            "t-статистика: 18.17200\n",
            "p-значение: 2.8066025158955254e-64\n",
            "\n",
            "Отвергаем нулевую гипотезу. Клиенты стали делать больше заказов полсе введения акции на бесплатную доставку.\n"
          ]
        }
      ],
      "source": [
        "# T-тест для сравнения среднего значения (зависимые выборки)\n",
        "t_statistic_rel, p_value_rel = st.ttest_rel(orders['orders_may'], orders['orders_april'], alternative = \"greater\")\n",
        "\n",
        "print(\"Результаты t-теста:\")\n",
        "print(f\"t-статистика: {t_statistic_rel:.5f}\")\n",
        "print(f\"p-значение: {p_value_rel}\")\n",
        "\n",
        "# Интерпретация результатов\n",
        "alpha = 0.05\n",
        "if p_value_rel < alpha:\n",
        "    print(\"\\nОтвергаем нулевую гипотезу. Клиенты стали делать больше заказов полсе введения акции на бесплатную доставку.\")\n",
        "else:\n",
        "    print(\"\\nНе отвергаем нулевую гипотезу. Введение бонуса на бесплатную доставку с 6-ого заказа не повлияло на число оформленных заказов пользователями за месяц.\")"
      ]
    },
    {
      "cell_type": "markdown",
      "metadata": {
        "id": "X8qA6m3diM79"
      },
      "source": [
        "Задание 3\n",
        "\n",
        "В файле vendors.csv представлена анонимизированная информация о\n",
        "продавцах маркетплейса: тип продукции ( goods ) и время осуществления\n",
        "продаж через этот маркетплейс ( experience ).\n",
        "\n",
        "Переменная goods принимает значения:\n",
        "\n",
        "clothes — одежда\n",
        "\n",
        "electronics — электроника и техника\n",
        "\n",
        "outdoor — товары для активного отдыха\n",
        "\n",
        "beauty — косметика и товары для ухода\n",
        "\n",
        "pets — товары для животных\n",
        "\n",
        "Переменная experience принимает значения:\n",
        "\n",
        "0-1 — до одного года продаж\n",
        "\n",
        "1-3 — от одного до трёх лет продаж\n",
        "\n",
        "3-5 — от трёх до пяти лет продаж\n",
        "\n",
        "5- — от пяти лет продаж\n",
        "стаж продаж на маркетплейсе не зависит от типа\n",
        "реализуемой продукции\n",
        "Проверьте гипотезу о том, что ."
      ]
    },
    {
      "cell_type": "code",
      "execution_count": null,
      "metadata": {
        "id": "CM8pMzo5iM79"
      },
      "outputs": [],
      "source": [
        "# Импорт данных\n",
        "vendors = pd.read_csv(r'C:\\Downloads\\vendors.csv')"
      ]
    },
    {
      "cell_type": "code",
      "execution_count": null,
      "metadata": {
        "id": "rSWxFAzCiM79",
        "outputId": "d7306ee7-f254-4eec-95e3-9c4117f8d919"
      },
      "outputs": [
        {
          "data": {
            "text/html": [
              "<div>\n",
              "<style scoped>\n",
              "    .dataframe tbody tr th:only-of-type {\n",
              "        vertical-align: middle;\n",
              "    }\n",
              "\n",
              "    .dataframe tbody tr th {\n",
              "        vertical-align: top;\n",
              "    }\n",
              "\n",
              "    .dataframe thead th {\n",
              "        text-align: right;\n",
              "    }\n",
              "</style>\n",
              "<table border=\"1\" class=\"dataframe\">\n",
              "  <thead>\n",
              "    <tr style=\"text-align: right;\">\n",
              "      <th></th>\n",
              "      <th>Unnamed: 0</th>\n",
              "      <th>goods</th>\n",
              "      <th>experience</th>\n",
              "    </tr>\n",
              "  </thead>\n",
              "  <tbody>\n",
              "    <tr>\n",
              "      <th>0</th>\n",
              "      <td>0</td>\n",
              "      <td>beauty</td>\n",
              "      <td>5-</td>\n",
              "    </tr>\n",
              "    <tr>\n",
              "      <th>1</th>\n",
              "      <td>1</td>\n",
              "      <td>beauty</td>\n",
              "      <td>3-5</td>\n",
              "    </tr>\n",
              "    <tr>\n",
              "      <th>2</th>\n",
              "      <td>2</td>\n",
              "      <td>outdoor</td>\n",
              "      <td>0-1</td>\n",
              "    </tr>\n",
              "    <tr>\n",
              "      <th>3</th>\n",
              "      <td>3</td>\n",
              "      <td>outdoor</td>\n",
              "      <td>0-1</td>\n",
              "    </tr>\n",
              "    <tr>\n",
              "      <th>4</th>\n",
              "      <td>4</td>\n",
              "      <td>clothes</td>\n",
              "      <td>3-5</td>\n",
              "    </tr>\n",
              "    <tr>\n",
              "      <th>5</th>\n",
              "      <td>5</td>\n",
              "      <td>clothes</td>\n",
              "      <td>1-3</td>\n",
              "    </tr>\n",
              "    <tr>\n",
              "      <th>6</th>\n",
              "      <td>6</td>\n",
              "      <td>clothes</td>\n",
              "      <td>1-3</td>\n",
              "    </tr>\n",
              "    <tr>\n",
              "      <th>7</th>\n",
              "      <td>7</td>\n",
              "      <td>clothes</td>\n",
              "      <td>5-</td>\n",
              "    </tr>\n",
              "    <tr>\n",
              "      <th>8</th>\n",
              "      <td>8</td>\n",
              "      <td>clothes</td>\n",
              "      <td>1-3</td>\n",
              "    </tr>\n",
              "    <tr>\n",
              "      <th>9</th>\n",
              "      <td>9</td>\n",
              "      <td>clothes</td>\n",
              "      <td>5-</td>\n",
              "    </tr>\n",
              "  </tbody>\n",
              "</table>\n",
              "</div>"
            ],
            "text/plain": [
              "   Unnamed: 0    goods experience\n",
              "0           0   beauty         5-\n",
              "1           1   beauty        3-5\n",
              "2           2  outdoor        0-1\n",
              "3           3  outdoor        0-1\n",
              "4           4  clothes        3-5\n",
              "5           5  clothes        1-3\n",
              "6           6  clothes        1-3\n",
              "7           7  clothes         5-\n",
              "8           8  clothes        1-3\n",
              "9           9  clothes         5-"
            ]
          },
          "execution_count": 75,
          "metadata": {},
          "output_type": "execute_result"
        }
      ],
      "source": [
        "# Обзор датафрейма\n",
        "vendors.head(10)"
      ]
    },
    {
      "cell_type": "code",
      "execution_count": null,
      "metadata": {
        "id": "8NxB7VN7iM7-",
        "outputId": "622f5a97-2957-44d8-9cdc-e597d84d0a52"
      },
      "outputs": [
        {
          "data": {
            "text/html": [
              "<div>\n",
              "<style scoped>\n",
              "    .dataframe tbody tr th:only-of-type {\n",
              "        vertical-align: middle;\n",
              "    }\n",
              "\n",
              "    .dataframe tbody tr th {\n",
              "        vertical-align: top;\n",
              "    }\n",
              "\n",
              "    .dataframe thead th {\n",
              "        text-align: right;\n",
              "    }\n",
              "</style>\n",
              "<table border=\"1\" class=\"dataframe\">\n",
              "  <thead>\n",
              "    <tr style=\"text-align: right;\">\n",
              "      <th>experience</th>\n",
              "      <th>0-1</th>\n",
              "      <th>1-3</th>\n",
              "      <th>3-5</th>\n",
              "      <th>5-</th>\n",
              "    </tr>\n",
              "    <tr>\n",
              "      <th>goods</th>\n",
              "      <th></th>\n",
              "      <th></th>\n",
              "      <th></th>\n",
              "      <th></th>\n",
              "    </tr>\n",
              "  </thead>\n",
              "  <tbody>\n",
              "    <tr>\n",
              "      <th>beauty</th>\n",
              "      <td>40</td>\n",
              "      <td>65</td>\n",
              "      <td>22</td>\n",
              "      <td>26</td>\n",
              "    </tr>\n",
              "    <tr>\n",
              "      <th>clothes</th>\n",
              "      <td>104</td>\n",
              "      <td>129</td>\n",
              "      <td>42</td>\n",
              "      <td>46</td>\n",
              "    </tr>\n",
              "    <tr>\n",
              "      <th>electronics</th>\n",
              "      <td>68</td>\n",
              "      <td>67</td>\n",
              "      <td>29</td>\n",
              "      <td>31</td>\n",
              "    </tr>\n",
              "    <tr>\n",
              "      <th>outdoor</th>\n",
              "      <td>36</td>\n",
              "      <td>46</td>\n",
              "      <td>23</td>\n",
              "      <td>26</td>\n",
              "    </tr>\n",
              "    <tr>\n",
              "      <th>pets</th>\n",
              "      <td>13</td>\n",
              "      <td>17</td>\n",
              "      <td>4</td>\n",
              "      <td>5</td>\n",
              "    </tr>\n",
              "  </tbody>\n",
              "</table>\n",
              "</div>"
            ],
            "text/plain": [
              "experience   0-1  1-3  3-5  5-\n",
              "goods                         \n",
              "beauty        40   65   22  26\n",
              "clothes      104  129   42  46\n",
              "electronics   68   67   29  31\n",
              "outdoor       36   46   23  26\n",
              "pets          13   17    4   5"
            ]
          },
          "execution_count": 76,
          "metadata": {},
          "output_type": "execute_result"
        }
      ],
      "source": [
        "# Построение таблицы сопряженности\n",
        "table = pd.crosstab(vendors['goods'], vendors['experience'])\n",
        "table"
      ]
    },
    {
      "cell_type": "code",
      "execution_count": null,
      "metadata": {
        "id": "Q9SJPDlgiM7-"
      },
      "outputs": [],
      "source": [
        "# Нулевая гипотеза H_0: Cтаж продаж на маркетплейсе не зависит от типа реализуемой продукции.\n",
        "# Альтернативная гипотеза H_1: Cтаж продаж на маркетплейсе зависит от типа реализуемой продукции.\n",
        "# Уровень значимости альфа = 0.05 (5 %)"
      ]
    },
    {
      "cell_type": "code",
      "execution_count": null,
      "metadata": {
        "id": "G4OjlvPXiM7-",
        "outputId": "7e8ecfc8-de54-4940-8990-660dc8763fdb"
      },
      "outputs": [
        {
          "name": "stdout",
          "output_type": "stream",
          "text": [
            "хи-квадрат стастистика: 9.17797\n",
            "p-value: 0.68766\n",
            "степеней свободы: 12\n",
            "рассчитанные ожидаемые значения:\n",
            " [[ 47.59594756  59.08462455  21.88319428  24.43623361]\n",
            " [ 99.85816448 123.96185936  45.91179976  51.2681764 ]\n",
            " [ 60.66150179  75.30393325  27.89034565  31.14421931]\n",
            " [ 40.75208582  50.58879619  18.73659118  20.92252682]\n",
            " [ 12.13230036  15.06078665   5.57806913   6.22884386]]\n",
            "\n",
            "Не отвергаем нулевую гипотезу. Нет достаточных (значимых) оснований полагать, что стаж продаж на маркетплейсе зависит от типа реализуемой продукции.\n"
          ]
        }
      ],
      "source": [
        "res = chi2_contingency(table)\n",
        "\n",
        "print(f'хи-квадрат стастистика: {res.statistic:.5f}')\n",
        "print(f'p-value: {res.pvalue:.5f}')\n",
        "print('степеней свободы:', res.dof)\n",
        "print('рассчитанные ожидаемые значения:\\n', res.expected_freq)\n",
        "\n",
        "# Интерпретация результатов\n",
        "# Проверка гипотезы путем сравнения Хи-квадрат статисткиик с критическим значением χ2(5%)_12.\n",
        "chi2_05 = 21.026\n",
        "if res.statistic > chi2_05:\n",
        "    print(\"\\nОтвергаем нулевую гипотезу. Существует статистически значимая зависимость стажа продаж от типа реализуемой ЧЯКАВС продукции.\")\n",
        "else:\n",
        "    print(\"\\nНе отвергаем нулевую гипотезу. Нет достаточных (значимых) оснований полагать, что стаж продаж на маркетплейсе зависит от типа реализуемой продукции.\")\n",
        "\n"
      ]
    },
    {
      "cell_type": "code",
      "execution_count": null,
      "metadata": {
        "id": "xonNkUWiiM7-",
        "outputId": "ceb9c2de-ed48-4432-85d8-5774fbf4597b"
      },
      "outputs": [
        {
          "data": {
            "text/html": [
              "<img src=\"https://www.scribbr.com/wp-content/uploads/2022/05/chi-square-distribution-table.png\" width=\"800\"/>"
            ],
            "text/plain": [
              "<IPython.core.display.Image object>"
            ]
          },
          "metadata": {},
          "output_type": "display_data"
        }
      ],
      "source": [
        "# Критические значения распределения Хи-квадрат\n",
        "display(Image(url='https://www.scribbr.com/wp-content/uploads/2022/05/chi-square-distribution-table.png', width = 800))"
      ]
    },
    {
      "cell_type": "code",
      "execution_count": null,
      "metadata": {
        "id": "80IKOLpGiM7_",
        "outputId": "e9f03d51-b3e2-498d-a640-0e20d2a80426"
      },
      "outputs": [
        {
          "name": "stdout",
          "output_type": "stream",
          "text": [
            "\n",
            "Не отвергаем нулевую гипотезу. Нет достаточных (значимых) оснований полагать, что стаж продаж на маркетплейсе зависит от типа реализуемой продукции.\n"
          ]
        }
      ],
      "source": [
        "# Проверка гипотез путем сравнения значения p-value с уровнем значимости α\n",
        "if res.pvalue < alpha:\n",
        "   print(\"\\nОтвергаем нулевую гипотезу. Существует статистически значимая зависимость стажа продаж от типа реализуемой ЧЯКАВС продукции.\")\n",
        "else:\n",
        "    print(\"\\nНе отвергаем нулевую гипотезу. Нет достаточных (значимых) оснований полагать, что стаж продаж на маркетплейсе зависит от типа реализуемой продукции.\")"
      ]
    },
    {
      "cell_type": "code",
      "execution_count": null,
      "metadata": {
        "id": "ptszRyhuiM7_",
        "outputId": "9e20cb14-cc52-453f-a832-b5aba7029238"
      },
      "outputs": [
        {
          "data": {
            "text/plain": [
              "<Axes: xlabel='goods'>"
            ]
          },
          "execution_count": 81,
          "metadata": {},
          "output_type": "execute_result"
        },
        {
          "data": {
            "image/png": "[encoded data removed]",
            "text/plain": [
              "<Figure size 640x480 with 1 Axes>"
            ]
          },
          "metadata": {},
          "output_type": "display_data"
        }
      ],
      "source": [
        "# Построение столбчатой диаграммы\n",
        "table.plot(kind='bar')"
      ]
    }
  ],
  "metadata": {
    "kernelspec": {
      "display_name": "Python 3",
      "language": "python",
      "name": "python3"
    },
    "language_info": {
      "codemirror_mode": {
        "name": "ipython",
        "version": 3
      },
      "file_extension": ".py",
      "mimetype": "text/x-python",
      "name": "python",
      "nbconvert_exporter": "python",
      "pygments_lexer": "ipython3",
      "version": "3.11.5"
    },
    "colab": {
      "provenance": []
    }
  },
  "nbformat": 4,
  "nbformat_minor": 0
}